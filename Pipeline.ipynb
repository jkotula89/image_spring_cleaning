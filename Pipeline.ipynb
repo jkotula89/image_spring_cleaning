{
 "cells": [
  {
   "cell_type": "markdown",
   "metadata": {},
   "source": [
    "# Clean up for your vacation images"
   ]
  },
  {
   "cell_type": "code",
   "execution_count": 1,
   "metadata": {},
   "outputs": [],
   "source": [
    "# Define global variables, are explained below\n",
    "\n",
    "IMAGES = './images/' # path to the images\n",
    "IMAGES_PREPROCESSED = './preprocessed/' # not used at the moment\n",
    "IMAGES_PROCESSED = './processed/' # output destination\n",
    "HASH_DIM = (8, 8)"
   ]
  },
  {
   "cell_type": "code",
   "execution_count": 2,
   "metadata": {},
   "outputs": [],
   "source": [
    "import glob\n",
    "import os\n",
    "import shutil\n",
    "\n",
    "import cv2\n",
    "import matplotlib.pyplot as plt\n",
    "%matplotlib inline\n",
    "import numpy as np\n",
    "import pandas as pd\n",
    "import scipy.stats as sts\n",
    "from sklearn.linear_model import LogisticRegression\n",
    "\n",
    "import spring_cleaning as sc # outsourced code"
   ]
  },
  {
   "cell_type": "markdown",
   "metadata": {},
   "source": [
    "# Pipeline"
   ]
  },
  {
   "cell_type": "code",
   "execution_count": 3,
   "metadata": {},
   "outputs": [
    {
     "data": {
      "text/html": [
       "<div>\n",
       "<style scoped>\n",
       "    .dataframe tbody tr th:only-of-type {\n",
       "        vertical-align: middle;\n",
       "    }\n",
       "\n",
       "    .dataframe tbody tr th {\n",
       "        vertical-align: top;\n",
       "    }\n",
       "\n",
       "    .dataframe thead th {\n",
       "        text-align: right;\n",
       "    }\n",
       "</style>\n",
       "<table border=\"1\" class=\"dataframe\">\n",
       "  <thead>\n",
       "    <tr style=\"text-align: right;\">\n",
       "      <th></th>\n",
       "      <th>file</th>\n",
       "      <th>creation_date</th>\n",
       "      <th>timediff_value</th>\n",
       "    </tr>\n",
       "  </thead>\n",
       "  <tbody>\n",
       "    <tr>\n",
       "      <th>23</th>\n",
       "      <td>ar_1.JPG</td>\n",
       "      <td>1487935036</td>\n",
       "      <td>0.0</td>\n",
       "    </tr>\n",
       "    <tr>\n",
       "      <th>22</th>\n",
       "      <td>ar_0.JPG</td>\n",
       "      <td>1487935036</td>\n",
       "      <td>16.0</td>\n",
       "    </tr>\n",
       "    <tr>\n",
       "      <th>25</th>\n",
       "      <td>as_1.JPG</td>\n",
       "      <td>1487935052</td>\n",
       "      <td>0.0</td>\n",
       "    </tr>\n",
       "    <tr>\n",
       "      <th>24</th>\n",
       "      <td>as_0.JPG</td>\n",
       "      <td>1487935052</td>\n",
       "      <td>10.0</td>\n",
       "    </tr>\n",
       "    <tr>\n",
       "      <th>26</th>\n",
       "      <td>at_0.JPG</td>\n",
       "      <td>1487935062</td>\n",
       "      <td>2.0</td>\n",
       "    </tr>\n",
       "  </tbody>\n",
       "</table>\n",
       "</div>"
      ],
      "text/plain": [
       "        file  creation_date  timediff_value\n",
       "23  ar_1.JPG     1487935036             0.0\n",
       "22  ar_0.JPG     1487935036            16.0\n",
       "25  as_1.JPG     1487935052             0.0\n",
       "24  as_0.JPG     1487935052            10.0\n",
       "26  at_0.JPG     1487935062             2.0"
      ]
     },
     "execution_count": 3,
     "metadata": {},
     "output_type": "execute_result"
    }
   ],
   "source": [
    "# Load images and meta data\n",
    "\n",
    "dict_files = sc.read_files(path=IMAGES, ext='jpg')\n",
    "\n",
    "df = pd.DataFrame(dict_files, columns=['file', 'creation_date'])\n",
    "df['creation_date'] = pd.to_numeric(df['creation_date'], downcast='integer')\n",
    "\n",
    "# For ranking of images, we need some intrinsic measure for consecutiveness\n",
    "# 'Creation Date' of images is a good measure\n",
    "# 'File Name' as well, if pictures are taken from one and the same camera\n",
    "\n",
    "# alternatively, sort by Filename: df.sort_values(by=['File'])\n",
    "df = df.sort_values(by=['creation_date'])\n",
    "df['timediff_value'] = df['creation_date'].diff(-1).abs()\n",
    "\n",
    "# Load images\n",
    "df['gray_images'] = [sc.resize_img(sc.read_img(IMAGES + cur_file, read_type='gray')) \n",
    "                                            for cur_file in df['file'].values]\n",
    "\n",
    "df['hsv_images'] = [sc.resize_img(sc.read_img(IMAGES + cur_file, read_type='hsv')) \n",
    "                                            for cur_file in df['file'].values]\n",
    "\n",
    "df[[c for c in df.columns if not c.endswith('_images')]].head()"
   ]
  },
  {
   "cell_type": "code",
   "execution_count": 4,
   "metadata": {},
   "outputs": [
    {
     "data": {
      "text/plain": [
       "(20, 20, 20, 1.0)"
      ]
     },
     "execution_count": 4,
     "metadata": {},
     "output_type": "execute_result"
    }
   ],
   "source": [
    "# Assign labels\n",
    "df = df.assign(target = df['file'].str.split(n=0, pat='_', expand=True).loc[:, 0])\n",
    "df['target'], _ = pd.factorize(df['target'])\n",
    "df['target'] = df['target'] + 1\n",
    "n_img = len(df['target'].unique())\n",
    "\n",
    "# perfect performance output \n",
    "sc.calculate_performance(df['target'], df['target'], n_img)"
   ]
  },
  {
   "cell_type": "code",
   "execution_count": 5,
   "metadata": {},
   "outputs": [],
   "source": [
    "# Rank by time\n",
    "# useful, if sequences of images are shot\n",
    "\n",
    "df['timediff_rank'] = sc.timelag_ranker(df['timediff_value'])"
   ]
  },
  {
   "cell_type": "code",
   "execution_count": 6,
   "metadata": {},
   "outputs": [],
   "source": [
    "# Rank by image hash\n",
    "\n",
    "df['hash_value'] = sc.compare_hashes_adv(df['gray_images'], return_hash_only=True)\n",
    "df['hash_rank'] = sc.hash_ranker(df['hash_value'], HASH_DIM)\n",
    "\n",
    "df['hash_adv_value'] = sc.compare_hashes_adv(df['gray_images'])\n",
    "df['hash_adv_rank'] = sc.hash_ranker(df['hash_adv_value'], HASH_DIM, 0.95)"
   ]
  },
  {
   "cell_type": "code",
   "execution_count": 7,
   "metadata": {
    "scrolled": true
   },
   "outputs": [],
   "source": [
    "# Rank by correlation of image histograms\n",
    "\n",
    "df['correl_corr'] = sc.calc_correlations(df['hsv_images'], 'correl')\n",
    "df['correl_rank'] = sc.corr_ranker(df['correl_corr'])\n",
    "\n",
    "df['bhattacharyya_corr'] = sc.calc_correlations(df['hsv_images'], 'bhattacharyya')\n",
    "df['bhattacharyya_rank'] = sc.corr_ranker(df['bhattacharyya_corr'])"
   ]
  },
  {
   "cell_type": "code",
   "execution_count": 8,
   "metadata": {},
   "outputs": [],
   "source": [
    "# Rank by axis-ratio change\n",
    "\n",
    "df['axisratio_value'] = df['gray_images'].apply(lambda x: \n",
    "                                        sc.calculate_axis_ratio(x)).diff(-1).fillna(0)\n",
    "df['axisratio_rank'] = sc.img_shape_ranker(df['axisratio_value'])"
   ]
  },
  {
   "cell_type": "code",
   "execution_count": 9,
   "metadata": {},
   "outputs": [],
   "source": [
    "# Create ranks from ensemble of methods\n",
    "\n",
    "voting_col = [col for col in df.columns if col.endswith('_rank') \n",
    "              and not col.endswith('voting_rank')]\n",
    "df['voting_diff'] = df[voting_col].diff(-1).fillna(-1).apply(\n",
    "    lambda x: 1 + np.mean(x), axis=1)\n",
    "df['voting_rank'] = sc.vote_ranker(df['voting_diff'])"
   ]
  },
  {
   "cell_type": "markdown",
   "metadata": {},
   "source": [
    "# Performance summary - Ranker"
   ]
  },
  {
   "cell_type": "code",
   "execution_count": 10,
   "metadata": {},
   "outputs": [
    {
     "data": {
      "text/html": [
       "<div>\n",
       "<style scoped>\n",
       "    .dataframe tbody tr th:only-of-type {\n",
       "        vertical-align: middle;\n",
       "    }\n",
       "\n",
       "    .dataframe tbody tr th {\n",
       "        vertical-align: top;\n",
       "    }\n",
       "\n",
       "    .dataframe thead th {\n",
       "        text-align: right;\n",
       "    }\n",
       "</style>\n",
       "<table border=\"1\" class=\"dataframe\">\n",
       "  <thead>\n",
       "    <tr style=\"text-align: right;\">\n",
       "      <th></th>\n",
       "      <th>groups_found</th>\n",
       "      <th>groups_unique</th>\n",
       "      <th>groups_true</th>\n",
       "      <th>reduction</th>\n",
       "    </tr>\n",
       "  </thead>\n",
       "  <tbody>\n",
       "    <tr>\n",
       "      <th>axisratio_rank</th>\n",
       "      <td>0</td>\n",
       "      <td>5</td>\n",
       "      <td>20</td>\n",
       "      <td>0.00</td>\n",
       "    </tr>\n",
       "    <tr>\n",
       "      <th>voting_rank</th>\n",
       "      <td>19</td>\n",
       "      <td>20</td>\n",
       "      <td>20</td>\n",
       "      <td>0.95</td>\n",
       "    </tr>\n",
       "    <tr>\n",
       "      <th>target</th>\n",
       "      <td>20</td>\n",
       "      <td>20</td>\n",
       "      <td>20</td>\n",
       "      <td>1.00</td>\n",
       "    </tr>\n",
       "    <tr>\n",
       "      <th>timediff_rank</th>\n",
       "      <td>20</td>\n",
       "      <td>21</td>\n",
       "      <td>20</td>\n",
       "      <td>1.05</td>\n",
       "    </tr>\n",
       "    <tr>\n",
       "      <th>correl_rank</th>\n",
       "      <td>20</td>\n",
       "      <td>22</td>\n",
       "      <td>20</td>\n",
       "      <td>1.10</td>\n",
       "    </tr>\n",
       "    <tr>\n",
       "      <th>hash_rank</th>\n",
       "      <td>20</td>\n",
       "      <td>24</td>\n",
       "      <td>20</td>\n",
       "      <td>1.20</td>\n",
       "    </tr>\n",
       "    <tr>\n",
       "      <th>hash_adv_rank</th>\n",
       "      <td>20</td>\n",
       "      <td>26</td>\n",
       "      <td>20</td>\n",
       "      <td>1.30</td>\n",
       "    </tr>\n",
       "    <tr>\n",
       "      <th>bhattacharyya_rank</th>\n",
       "      <td>20</td>\n",
       "      <td>26</td>\n",
       "      <td>20</td>\n",
       "      <td>1.30</td>\n",
       "    </tr>\n",
       "  </tbody>\n",
       "</table>\n",
       "</div>"
      ],
      "text/plain": [
       "                    groups_found  groups_unique  groups_true  reduction\n",
       "axisratio_rank                 0              5           20       0.00\n",
       "voting_rank                   19             20           20       0.95\n",
       "target                        20             20           20       1.00\n",
       "timediff_rank                 20             21           20       1.05\n",
       "correl_rank                   20             22           20       1.10\n",
       "hash_rank                     20             24           20       1.20\n",
       "hash_adv_rank                 20             26           20       1.30\n",
       "bhattacharyya_rank            20             26           20       1.30"
      ]
     },
     "execution_count": 10,
     "metadata": {},
     "output_type": "execute_result"
    }
   ],
   "source": [
    "evals = {col: sc.calculate_performance(df['target'], df[col], n_img) \n",
    "             for col in voting_col + ['voting_rank', 'target']\n",
    "}\n",
    "df_eval = pd.DataFrame.from_dict(evals, orient='index', \n",
    "            columns=['groups_found', 'groups_unique', 'groups_true', 'reduction']\n",
    "            ).sort_values(by=['reduction'])\n",
    "\n",
    "df_eval"
   ]
  },
  {
   "cell_type": "code",
   "execution_count": 11,
   "metadata": {},
   "outputs": [
    {
     "data": {
      "image/png": "[encoded data removed]",
      "text/plain": [
       "<Figure size 1080x360 with 2 Axes>"
      ]
     },
     "metadata": {
      "needs_background": "light"
     },
     "output_type": "display_data"
    }
   ],
   "source": [
    "# for our example data, the timediff_rank seems to provide the best results\n",
    "\n",
    "sc.plot_summary(df_eval)"
   ]
  },
  {
   "cell_type": "markdown",
   "metadata": {},
   "source": [
    "# Identify the best images: high-pass filtering"
   ]
  },
  {
   "cell_type": "code",
   "execution_count": 12,
   "metadata": {},
   "outputs": [],
   "source": [
    "# for the time being, the best image refers to having most structure\n",
    "\n",
    "df['magnitude_spectrum_f'] = df['gray_images'].apply(lambda x: sc.high_pass_filtering(x))"
   ]
  },
  {
   "cell_type": "markdown",
   "metadata": {},
   "source": [
    "# Apply results"
   ]
  },
  {
   "cell_type": "code",
   "execution_count": 14,
   "metadata": {
    "scrolled": true
   },
   "outputs": [],
   "source": [
    "# Finally, copy the images into ready-to-go directory, that's it!\n",
    "\n",
    "sc.copy_images(df, (IMAGES, IMAGES_PROCESSED), 'timediff_rank', 'magnitude_spectrum_f')"
   ]
  }
 ],
 "metadata": {
  "kernelspec": {
   "display_name": "Python 3",
   "language": "python",
   "name": "python3"
  },
  "language_info": {
   "codemirror_mode": {
    "name": "ipython",
    "version": 3
   },
   "file_extension": ".py",
   "mimetype": "text/x-python",
   "name": "python",
   "nbconvert_exporter": "python",
   "pygments_lexer": "ipython3",
   "version": "3.7.3"
  }
 },
 "nbformat": 4,
 "nbformat_minor": 4
}
