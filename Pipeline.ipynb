{
 "cells": [
  {
   "cell_type": "code",
   "execution_count": 1,
   "metadata": {},
   "outputs": [],
   "source": [
    "IMAGES = \"./images/\" # path to the images\n",
    "IMAGES_PREPROCESSED = './preprocessed/' # not used at the moment\n",
    "IMAGES_PROCESSED = './processed/' # output destination"
   ]
  },
  {
   "cell_type": "markdown",
   "metadata": {},
   "source": [
    "# Clean up for your vacation images"
   ]
  },
  {
   "cell_type": "code",
   "execution_count": 2,
   "metadata": {},
   "outputs": [],
   "source": [
    "import glob\n",
    "import os\n",
    "import shutil\n",
    "import matplotlib.pyplot as plt\n",
    "#import seaborn as sb\n",
    "%matplotlib inline\n",
    "\n",
    "import pandas as pd\n",
    "import cv2\n",
    "import numpy as np"
   ]
  },
  {
   "cell_type": "code",
   "execution_count": 3,
   "metadata": {},
   "outputs": [],
   "source": [
    "def split_filepath(file, split=False):\n",
    "    \"\"\"\n",
    "    Function to split file from path and return either of them.\n",
    "    \n",
    "    parameters:\n",
    "        file: (str), full path to file\n",
    "        split: (bool), flag, if path shall be returned\n",
    "        \n",
    "    \"\"\"\n",
    "    file = file.replace('\\\\', '/')\n",
    "    if split is True:\n",
    "        if os.path.isfile(file):\n",
    "            _ = file.split('/')\n",
    "            return '/'.join(_[:-2]), _[-1]\n",
    "        else:\n",
    "            if os.path.exists(file):\n",
    "                if file[-1] is not '/':\n",
    "                    file = file + '/'\n",
    "                return file\n",
    "            else:\n",
    "                print('The file/path {} does not exist.'.format(file))\n",
    "    else:\n",
    "        return file\n",
    "        \n",
    "def read_files(path, ext):\n",
    "    \"\"\"\n",
    "    Function to read image filenames from a directory and their creation date.\n",
    "    \n",
    "    parameters:\n",
    "        path: (str), filename\n",
    "        ext: (str), extension for files to be considered\n",
    "    \"\"\"\n",
    "    files = glob.glob('{}*.{}'.format(path, ext))\n",
    "    # file modification date seems to be more reliable\n",
    "    files = [(split_filepath(f, split=True)[-1], os.stat(f).st_mtime) for f in files]\n",
    "    #files = [(split_filepath(f, split=True)[-1], os.path.getctime(f)) for f in files] \n",
    "    return files\n",
    "\n",
    "def read_img(file, read_type=None):\n",
    "    \"\"\"\n",
    "    Function to read images.\n",
    "    \n",
    "    parametsr:\n",
    "        file: (str), filename\n",
    "        read_type: (str), different opencv conversions of images\n",
    "    \n",
    "    \"\"\"\n",
    "    if read_type == None:\n",
    "        return cv2.imread(file)\n",
    "    elif read_type == 'hsv':\n",
    "        return cv2.cvtColor(cv2.imread(file), cv2.COLOR_BGR2HSV)\n",
    "    elif read_type == 'gray':\n",
    "        return cv2.cvtColor(cv2.imread(file), cv2.COLOR_BGR2GRAY)\n",
    "\n",
    "def resize_img(img, scale=0.05):\n",
    "    \"\"\"\n",
    "    Resizing function.\n",
    "    \n",
    "    parameters:\n",
    "        img: (array), image\n",
    "        scale: (float), factor used for reduction (1.0 means no change)\n",
    "    \"\"\"\n",
    "    x, y = int(img.shape[0]*scale), int(img.shape[1]*scale)\n",
    "    return cv2.resize(img, (y, x))"
   ]
  },
  {
   "cell_type": "markdown",
   "metadata": {},
   "source": [
    "# How many Correlations exist between images?"
   ]
  },
  {
   "cell_type": "code",
   "execution_count": 4,
   "metadata": {},
   "outputs": [
    {
     "data": {
      "text/plain": [
       "Text(0, 0.5, 'number of calculations')"
      ]
     },
     "execution_count": 4,
     "metadata": {},
     "output_type": "execute_result"
    },
    {
     "data": {
      "image/png": "[encoded data removed]",
      "text/plain": [
       "<Figure size 1080x432 with 1 Axes>"
      ]
     },
     "metadata": {
      "needs_background": "light"
     },
     "output_type": "display_data"
    }
   ],
   "source": [
    "# function increases steeply, thus we make the assumption that only adjacent images are related to each other\n",
    "def corr(n):\n",
    "    return n*(n-1)/2\n",
    "\n",
    "n = np.linspace(0, 500)\n",
    "plt.figure(figsize=(15, 6))\n",
    "plt.plot(n, corr(n))\n",
    "plt.xlabel('number of images')\n",
    "plt.ylabel('number of calculations')"
   ]
  },
  {
   "cell_type": "markdown",
   "metadata": {},
   "source": [
    "# Pipeline"
   ]
  },
  {
   "cell_type": "code",
   "execution_count": 5,
   "metadata": {},
   "outputs": [
    {
     "data": {
      "text/html": [
       "<div>\n",
       "<style scoped>\n",
       "    .dataframe tbody tr th:only-of-type {\n",
       "        vertical-align: middle;\n",
       "    }\n",
       "\n",
       "    .dataframe tbody tr th {\n",
       "        vertical-align: top;\n",
       "    }\n",
       "\n",
       "    .dataframe thead th {\n",
       "        text-align: right;\n",
       "    }\n",
       "</style>\n",
       "<table border=\"1\" class=\"dataframe\">\n",
       "  <thead>\n",
       "    <tr style=\"text-align: right;\">\n",
       "      <th></th>\n",
       "      <th>File</th>\n",
       "      <th>Creation_Date</th>\n",
       "      <th>Timediff</th>\n",
       "    </tr>\n",
       "  </thead>\n",
       "  <tbody>\n",
       "    <tr>\n",
       "      <th>0</th>\n",
       "      <td>ac_0.JPG</td>\n",
       "      <td>1561815246</td>\n",
       "      <td>26.0</td>\n",
       "    </tr>\n",
       "    <tr>\n",
       "      <th>1</th>\n",
       "      <td>ad_0.JPG</td>\n",
       "      <td>1561815272</td>\n",
       "      <td>12.0</td>\n",
       "    </tr>\n",
       "    <tr>\n",
       "      <th>2</th>\n",
       "      <td>ae_0.JPG</td>\n",
       "      <td>1561815284</td>\n",
       "      <td>6.0</td>\n",
       "    </tr>\n",
       "    <tr>\n",
       "      <th>3</th>\n",
       "      <td>ae_1.JPG</td>\n",
       "      <td>1561815290</td>\n",
       "      <td>96.0</td>\n",
       "    </tr>\n",
       "    <tr>\n",
       "      <th>4</th>\n",
       "      <td>af_0.JPG</td>\n",
       "      <td>1561815386</td>\n",
       "      <td>134.0</td>\n",
       "    </tr>\n",
       "  </tbody>\n",
       "</table>\n",
       "</div>"
      ],
      "text/plain": [
       "       File  Creation_Date  Timediff\n",
       "0  ac_0.JPG     1561815246      26.0\n",
       "1  ad_0.JPG     1561815272      12.0\n",
       "2  ae_0.JPG     1561815284       6.0\n",
       "3  ae_1.JPG     1561815290      96.0\n",
       "4  af_0.JPG     1561815386     134.0"
      ]
     },
     "execution_count": 5,
     "metadata": {},
     "output_type": "execute_result"
    }
   ],
   "source": [
    "# Load images meta data\n",
    "\n",
    "dict_files = read_files(path=IMAGES, ext='jpg')\n",
    "df = pd.DataFrame(dict_files, columns=['File', 'Creation_Date'])\n",
    "df['Creation_Date'] = pd.to_numeric(df['Creation_Date'], downcast='integer')\n",
    "df = df.sort_values(by=['Creation_Date'])\n",
    "df['Timediff'] = df['Creation_Date'].diff(-1).abs()\n",
    "df.head()"
   ]
  },
  {
   "cell_type": "code",
   "execution_count": 6,
   "metadata": {},
   "outputs": [],
   "source": [
    "# assign labels\n",
    "\n",
    "df = df.assign(Target = df['File'].str.split(n=0, pat='_', expand=True).loc[:, 0])\n",
    "df['Target'], _ = pd.factorize(df['Target'])"
   ]
  },
  {
   "cell_type": "code",
   "execution_count": 67,
   "metadata": {},
   "outputs": [],
   "source": [
    "# define scoring metric (will be later used to compare different groupings)\n",
    "\n",
    "labels = df['Target'].copy()\n",
    "n_img = len(labels.unique())\n",
    "    \n",
    "def loss_function(pred, n_img=None):\n",
    "    \"\"\"\n",
    "    Loss function for ranking evaluation. Has two contributions:\n",
    "    * MSE estimate, if the ranking yields more groups than actually exist (unproblematic)\n",
    "    * a polynomial penalty, if the ranking groups together images of different classes (problematic,\n",
    "        since images might get lost)\n",
    "    \n",
    "    Returns a tuple: (number of images found, \n",
    "                      number of unique images identified, \n",
    "                      loss value (min value = 1))\n",
    "    \n",
    "    parameters:\n",
    "        pred = (list, array), label predictions\n",
    "        n_img = (int), true number of groups\n",
    "    \n",
    "    \"\"\"\n",
    "    def penalty(x):\n",
    "        return np.sum(x**3)\n",
    "    \n",
    "    # 1. MSE estimate\n",
    "    mse = np.sum((labels - pred) ** 2)\n",
    "    \n",
    "    # 2. error for missed images\n",
    "    df = pd.DataFrame(np.c_[labels, pred], columns=['labels', 'pred'])\n",
    "    df_grouped = df.groupby(['pred'])['labels'].apply(lambda x: len(set(x))).to_frame()\n",
    "    miss_loss = penalty(df_grouped['labels'].values)\n",
    "    \n",
    "    # 3. images found\n",
    "    img_found = min(n_img, len(set(df_grouped.index[df_grouped['labels']==1].values)))\n",
    "    img_unique = len(df['pred'].unique())\n",
    "    \n",
    "    miss_loss /= max(1, img_found)\n",
    "    mse /= max(1, img_found)    \n",
    "    return img_found, img_unique, mse + miss_loss"
   ]
  },
  {
   "cell_type": "code",
   "execution_count": 68,
   "metadata": {},
   "outputs": [
    {
     "data": {
      "text/plain": [
       "(15, 15, 1.0)"
      ]
     },
     "execution_count": 68,
     "metadata": {},
     "output_type": "execute_result"
    }
   ],
   "source": [
    "# example output \n",
    "\n",
    "loss_function(labels, n_img)"
   ]
  },
  {
   "cell_type": "markdown",
   "metadata": {},
   "source": [
    "# Rank images by time difference"
   ]
  },
  {
   "cell_type": "code",
   "execution_count": 9,
   "metadata": {},
   "outputs": [
    {
     "data": {
      "text/html": [
       "<div>\n",
       "<style scoped>\n",
       "    .dataframe tbody tr th:only-of-type {\n",
       "        vertical-align: middle;\n",
       "    }\n",
       "\n",
       "    .dataframe tbody tr th {\n",
       "        vertical-align: top;\n",
       "    }\n",
       "\n",
       "    .dataframe thead th {\n",
       "        text-align: right;\n",
       "    }\n",
       "</style>\n",
       "<table border=\"1\" class=\"dataframe\">\n",
       "  <thead>\n",
       "    <tr style=\"text-align: right;\">\n",
       "      <th></th>\n",
       "      <th>File</th>\n",
       "      <th>Creation_Date</th>\n",
       "      <th>Timediff</th>\n",
       "      <th>Target</th>\n",
       "      <th>Timediff_pred</th>\n",
       "    </tr>\n",
       "  </thead>\n",
       "  <tbody>\n",
       "    <tr>\n",
       "      <th>0</th>\n",
       "      <td>ac_0.JPG</td>\n",
       "      <td>1561815246</td>\n",
       "      <td>26.0</td>\n",
       "      <td>0</td>\n",
       "      <td>0</td>\n",
       "    </tr>\n",
       "    <tr>\n",
       "      <th>1</th>\n",
       "      <td>ad_0.JPG</td>\n",
       "      <td>1561815272</td>\n",
       "      <td>12.0</td>\n",
       "      <td>1</td>\n",
       "      <td>1</td>\n",
       "    </tr>\n",
       "    <tr>\n",
       "      <th>2</th>\n",
       "      <td>ae_0.JPG</td>\n",
       "      <td>1561815284</td>\n",
       "      <td>6.0</td>\n",
       "      <td>2</td>\n",
       "      <td>2</td>\n",
       "    </tr>\n",
       "    <tr>\n",
       "      <th>3</th>\n",
       "      <td>ae_1.JPG</td>\n",
       "      <td>1561815290</td>\n",
       "      <td>96.0</td>\n",
       "      <td>2</td>\n",
       "      <td>3</td>\n",
       "    </tr>\n",
       "    <tr>\n",
       "      <th>4</th>\n",
       "      <td>af_0.JPG</td>\n",
       "      <td>1561815386</td>\n",
       "      <td>134.0</td>\n",
       "      <td>3</td>\n",
       "      <td>4</td>\n",
       "    </tr>\n",
       "  </tbody>\n",
       "</table>\n",
       "</div>"
      ],
      "text/plain": [
       "       File  Creation_Date  Timediff  Target  Timediff_pred\n",
       "0  ac_0.JPG     1561815246      26.0       0              0\n",
       "1  ad_0.JPG     1561815272      12.0       1              1\n",
       "2  ae_0.JPG     1561815284       6.0       2              2\n",
       "3  ae_1.JPG     1561815290      96.0       2              3\n",
       "4  af_0.JPG     1561815386     134.0       3              4"
      ]
     },
     "execution_count": 9,
     "metadata": {},
     "output_type": "execute_result"
    }
   ],
   "source": [
    "def timelag_ranker(series, max_lag=10, max_per_group=4):\n",
    "    \"\"\"\n",
    "    Ranker function, distinguishes images based on difference timestamps.\n",
    "    \n",
    "    parameters:\n",
    "        max_lag = (float), seconds between images\n",
    "        group_default = (int), maximum number of images per group\n",
    "    \"\"\"\n",
    "    rank = 0\n",
    "    n_group = 0\n",
    "    for i in range(len(series)-1):\n",
    "        yield rank\n",
    "        n_group += 1\n",
    "        if series.loc[i] > max_lag:\n",
    "            rank += 1\n",
    "            n_group = 0\n",
    "        elif n_group > max_per_group:\n",
    "            rank += 1\n",
    "            n_group = 0\n",
    "    yield rank     \n",
    "\n",
    "df['Timediff_pred'] = list(timelag_ranker(df['Timediff'], max_lag=5))\n",
    "df.head()"
   ]
  },
  {
   "cell_type": "markdown",
   "metadata": {},
   "source": [
    "# Load images"
   ]
  },
  {
   "cell_type": "code",
   "execution_count": 10,
   "metadata": {},
   "outputs": [],
   "source": [
    "gray_images = [resize_img(read_img(IMAGES + cur_file, read_type='gray')) for cur_file in df['File'].values]"
   ]
  },
  {
   "cell_type": "markdown",
   "metadata": {},
   "source": [
    "# High-pass filtering"
   ]
  },
  {
   "cell_type": "code",
   "execution_count": 19,
   "metadata": {},
   "outputs": [],
   "source": [
    "def high_pass_filtering(img, x_shift=0, y_shift=0):\n",
    "    \"\"\"\n",
    "    High-pass filter for images, calculates the magnitude spectrum.\n",
    "    \n",
    "    parameters:\n",
    "        img: (array), two dimensional image data\n",
    "        x_shift, y_shift: (int), filter threshold, 0 means no filtering at all\n",
    "    \"\"\"\n",
    "    rows, cols = img.shape\n",
    "    _row, _col = int(rows/2) , int(cols/2)\n",
    "    f = np.fft.fft2(img)\n",
    "    fshift = np.fft.fftshift(f)\n",
    "    fshift[_row-y_shift:_row+y_shift, _col-x_shift:_col+x_shift] = 0\n",
    "    f_ishift = np.fft.ifftshift(fshift)\n",
    "    img_back = np.fft.ifft2(f_ishift)\n",
    "    img_back = np.abs(img_back)\n",
    "    flattened_spectrum = img_back.reshape(-1,1)\n",
    "    x_hist, y_hist = np.histogram(flattened_spectrum, bins=255)\n",
    "    y_hist_corr = [(y_hist[i] + y_hist[i+1])/2.0 for i in range(len(y_hist)-1)]\n",
    "    mag_spectrum = np.cumsum(y_hist_corr)[-1]\n",
    "    return mag_spectrum"
   ]
  },
  {
   "cell_type": "code",
   "execution_count": 20,
   "metadata": {},
   "outputs": [],
   "source": [
    "df['Magnitude_spectrum'] = [high_pass_filtering(img) for img in gray_images]"
   ]
  },
  {
   "cell_type": "markdown",
   "metadata": {},
   "source": [
    "# Image Hash"
   ]
  },
  {
   "cell_type": "code",
   "execution_count": 53,
   "metadata": {},
   "outputs": [],
   "source": [
    "def hash_image(img, min_pix=8):\n",
    "    \"\"\"\n",
    "    Function that resizes images to icon size, leaving only the bare silhouette of the image.\n",
    "    \n",
    "    parameters:\n",
    "        img: (array), input image\n",
    "        min_pix: (int, tuple), min value for the min axis\n",
    "    \"\"\"\n",
    "    if len(img.shape) == 2:\n",
    "        y, x = img.shape\n",
    "    elif len(img.shape) == 3:\n",
    "        y, x, _ = img.shape\n",
    "    \n",
    "    if type(min_pix) == int:\n",
    "        if x <= y:\n",
    "            y = int(y/x * 8)\n",
    "            x = 8\n",
    "        else:\n",
    "            x = int(x/y *8)\n",
    "            y = 8\n",
    "            \n",
    "    elif type(min_pix) == tuple:\n",
    "        x, y = min_pix\n",
    "        \n",
    "    return cv2.resize(img, (x, y))"
   ]
  },
  {
   "cell_type": "code",
   "execution_count": 54,
   "metadata": {},
   "outputs": [],
   "source": [
    "#reduce the image size even further\n",
    "\n",
    "hash_dim = (8, 8)\n",
    "images = [hash_image(img, min_pix=hash_dim) for img in gray_images]"
   ]
  },
  {
   "cell_type": "code",
   "execution_count": 55,
   "metadata": {},
   "outputs": [
    {
     "data": {
      "text/plain": [
       "<matplotlib.image.AxesImage at 0x1ea0b4ef748>"
      ]
     },
     "execution_count": 55,
     "metadata": {},
     "output_type": "execute_result"
    },
    {
     "data": {
      "image/png": "[encoded data removed]",
      "text/plain": [
       "<Figure size 1080x720 with 4 Axes>"
      ]
     },
     "metadata": {
      "needs_background": "light"
     },
     "output_type": "display_data"
    }
   ],
   "source": [
    "fig, ax = plt.subplots(figsize=(15, 10))\n",
    "plt.subplot(221, frame_on=False)\n",
    "plt.imshow(images[0], cmap='gray')\n",
    "plt.subplot(222, frame_on=False)\n",
    "plt.imshow(images[1], cmap='gray')\n",
    "plt.subplot(223, frame_on=False)\n",
    "plt.imshow(images[2], cmap='gray')\n",
    "plt.subplot(224, frame_on=False)\n",
    "plt.imshow(images[3], cmap='gray')"
   ]
  },
  {
   "cell_type": "code",
   "execution_count": 56,
   "metadata": {},
   "outputs": [],
   "source": [
    "img_mean = [np.mean(img) for img in images]\n",
    "img_median = [np.median(img) for img in images]\n",
    "imgs_reshaped = [img.reshape(-1) for img in images]\n",
    "\n",
    "hashes = []\n",
    "for cur_img in imgs_reshaped:\n",
    "    hashes.append([1 if px > img_median[0] else 0 for px in cur_img])\n",
    "\n",
    "def hash_checker(img_a, img_b):\n",
    "    return sum([1 if i[0] == i[1] else 0 for i in zip(img_a, img_b)])\n",
    "\n",
    "compared_hashes = []\n",
    "for pair in zip(hashes, hashes[1:]):\n",
    "    compared_hashes.append(hash_checker(*pair))\n",
    "    \n",
    "compared_hashes.append(hash_checker(hashes[-1], hashes[1]))"
   ]
  },
  {
   "cell_type": "code",
   "execution_count": 57,
   "metadata": {},
   "outputs": [],
   "source": [
    "df['Hash_value'] = compared_hashes\n",
    "\n",
    "def ranker(series, dims=None, limit=0.85):\n",
    "    rank = 0\n",
    "    for i in range(len(series)-1):\n",
    "        yield rank\n",
    "        if series.iloc[i] < dims * limit:\n",
    "            rank += 1\n",
    "    yield rank     \n",
    "    #return rank\n",
    "\n",
    "df['Hash_pred'] = list(ranker(df['Hash_value'], np.product(hash_dim)))"
   ]
  },
  {
   "cell_type": "code",
   "execution_count": 58,
   "metadata": {},
   "outputs": [
    {
     "data": {
      "text/html": [
       "<div>\n",
       "<style scoped>\n",
       "    .dataframe tbody tr th:only-of-type {\n",
       "        vertical-align: middle;\n",
       "    }\n",
       "\n",
       "    .dataframe tbody tr th {\n",
       "        vertical-align: top;\n",
       "    }\n",
       "\n",
       "    .dataframe thead th {\n",
       "        text-align: right;\n",
       "    }\n",
       "</style>\n",
       "<table border=\"1\" class=\"dataframe\">\n",
       "  <thead>\n",
       "    <tr style=\"text-align: right;\">\n",
       "      <th></th>\n",
       "      <th>File</th>\n",
       "      <th>Creation_Date</th>\n",
       "      <th>Timediff</th>\n",
       "      <th>Target</th>\n",
       "      <th>Timediff_pred</th>\n",
       "      <th>Magnitude_spectrum</th>\n",
       "      <th>Hash_value</th>\n",
       "      <th>Hash_pred</th>\n",
       "    </tr>\n",
       "  </thead>\n",
       "  <tbody>\n",
       "    <tr>\n",
       "      <th>0</th>\n",
       "      <td>ac_0.JPG</td>\n",
       "      <td>1561815246</td>\n",
       "      <td>26.0</td>\n",
       "      <td>0</td>\n",
       "      <td>0</td>\n",
       "      <td>33022.5</td>\n",
       "      <td>52</td>\n",
       "      <td>0</td>\n",
       "    </tr>\n",
       "    <tr>\n",
       "      <th>1</th>\n",
       "      <td>ad_0.JPG</td>\n",
       "      <td>1561815272</td>\n",
       "      <td>12.0</td>\n",
       "      <td>1</td>\n",
       "      <td>1</td>\n",
       "      <td>33277.5</td>\n",
       "      <td>40</td>\n",
       "      <td>1</td>\n",
       "    </tr>\n",
       "    <tr>\n",
       "      <th>2</th>\n",
       "      <td>ae_0.JPG</td>\n",
       "      <td>1561815284</td>\n",
       "      <td>6.0</td>\n",
       "      <td>2</td>\n",
       "      <td>2</td>\n",
       "      <td>32257.5</td>\n",
       "      <td>47</td>\n",
       "      <td>2</td>\n",
       "    </tr>\n",
       "    <tr>\n",
       "      <th>3</th>\n",
       "      <td>ae_1.JPG</td>\n",
       "      <td>1561815290</td>\n",
       "      <td>96.0</td>\n",
       "      <td>2</td>\n",
       "      <td>3</td>\n",
       "      <td>31875.0</td>\n",
       "      <td>35</td>\n",
       "      <td>3</td>\n",
       "    </tr>\n",
       "    <tr>\n",
       "      <th>4</th>\n",
       "      <td>af_0.JPG</td>\n",
       "      <td>1561815386</td>\n",
       "      <td>134.0</td>\n",
       "      <td>3</td>\n",
       "      <td>4</td>\n",
       "      <td>33405.0</td>\n",
       "      <td>51</td>\n",
       "      <td>4</td>\n",
       "    </tr>\n",
       "    <tr>\n",
       "      <th>5</th>\n",
       "      <td>ag_0.JPG</td>\n",
       "      <td>1561815520</td>\n",
       "      <td>128.0</td>\n",
       "      <td>4</td>\n",
       "      <td>5</td>\n",
       "      <td>34170.0</td>\n",
       "      <td>45</td>\n",
       "      <td>5</td>\n",
       "    </tr>\n",
       "    <tr>\n",
       "      <th>6</th>\n",
       "      <td>ah_0.JPG</td>\n",
       "      <td>1561815648</td>\n",
       "      <td>12.0</td>\n",
       "      <td>5</td>\n",
       "      <td>6</td>\n",
       "      <td>33150.0</td>\n",
       "      <td>41</td>\n",
       "      <td>6</td>\n",
       "    </tr>\n",
       "    <tr>\n",
       "      <th>7</th>\n",
       "      <td>ai_0.JPG</td>\n",
       "      <td>1561815660</td>\n",
       "      <td>8.0</td>\n",
       "      <td>6</td>\n",
       "      <td>7</td>\n",
       "      <td>32512.5</td>\n",
       "      <td>50</td>\n",
       "      <td>7</td>\n",
       "    </tr>\n",
       "    <tr>\n",
       "      <th>8</th>\n",
       "      <td>ai_1.JPG</td>\n",
       "      <td>1561815668</td>\n",
       "      <td>166.0</td>\n",
       "      <td>6</td>\n",
       "      <td>8</td>\n",
       "      <td>31620.0</td>\n",
       "      <td>35</td>\n",
       "      <td>8</td>\n",
       "    </tr>\n",
       "    <tr>\n",
       "      <th>9</th>\n",
       "      <td>aj_0.JPG</td>\n",
       "      <td>1561815834</td>\n",
       "      <td>2.0</td>\n",
       "      <td>7</td>\n",
       "      <td>9</td>\n",
       "      <td>32767.5</td>\n",
       "      <td>42</td>\n",
       "      <td>9</td>\n",
       "    </tr>\n",
       "    <tr>\n",
       "      <th>10</th>\n",
       "      <td>aj_1.JPG</td>\n",
       "      <td>1561815836</td>\n",
       "      <td>272.0</td>\n",
       "      <td>7</td>\n",
       "      <td>9</td>\n",
       "      <td>31237.5</td>\n",
       "      <td>37</td>\n",
       "      <td>10</td>\n",
       "    </tr>\n",
       "    <tr>\n",
       "      <th>11</th>\n",
       "      <td>ak_0.JPG</td>\n",
       "      <td>1561816108</td>\n",
       "      <td>2.0</td>\n",
       "      <td>8</td>\n",
       "      <td>10</td>\n",
       "      <td>30600.0</td>\n",
       "      <td>58</td>\n",
       "      <td>11</td>\n",
       "    </tr>\n",
       "    <tr>\n",
       "      <th>12</th>\n",
       "      <td>ak_1.JPG</td>\n",
       "      <td>1561816110</td>\n",
       "      <td>876.0</td>\n",
       "      <td>8</td>\n",
       "      <td>10</td>\n",
       "      <td>30600.0</td>\n",
       "      <td>43</td>\n",
       "      <td>11</td>\n",
       "    </tr>\n",
       "    <tr>\n",
       "      <th>13</th>\n",
       "      <td>al_0.JPG</td>\n",
       "      <td>1561816986</td>\n",
       "      <td>76.0</td>\n",
       "      <td>9</td>\n",
       "      <td>11</td>\n",
       "      <td>31110.0</td>\n",
       "      <td>39</td>\n",
       "      <td>12</td>\n",
       "    </tr>\n",
       "    <tr>\n",
       "      <th>14</th>\n",
       "      <td>am_0.JPG</td>\n",
       "      <td>1561817062</td>\n",
       "      <td>0.0</td>\n",
       "      <td>10</td>\n",
       "      <td>12</td>\n",
       "      <td>33150.0</td>\n",
       "      <td>58</td>\n",
       "      <td>13</td>\n",
       "    </tr>\n",
       "    <tr>\n",
       "      <th>15</th>\n",
       "      <td>am_1.JPG</td>\n",
       "      <td>1561817062</td>\n",
       "      <td>94.0</td>\n",
       "      <td>10</td>\n",
       "      <td>12</td>\n",
       "      <td>32895.0</td>\n",
       "      <td>40</td>\n",
       "      <td>13</td>\n",
       "    </tr>\n",
       "    <tr>\n",
       "      <th>16</th>\n",
       "      <td>an_0.JPG</td>\n",
       "      <td>1561817156</td>\n",
       "      <td>2.0</td>\n",
       "      <td>11</td>\n",
       "      <td>13</td>\n",
       "      <td>32767.5</td>\n",
       "      <td>55</td>\n",
       "      <td>14</td>\n",
       "    </tr>\n",
       "    <tr>\n",
       "      <th>17</th>\n",
       "      <td>an_1.JPG</td>\n",
       "      <td>1561817158</td>\n",
       "      <td>4.0</td>\n",
       "      <td>11</td>\n",
       "      <td>13</td>\n",
       "      <td>32640.0</td>\n",
       "      <td>39</td>\n",
       "      <td>14</td>\n",
       "    </tr>\n",
       "    <tr>\n",
       "      <th>18</th>\n",
       "      <td>ao_0.JPG</td>\n",
       "      <td>1561817162</td>\n",
       "      <td>0.0</td>\n",
       "      <td>12</td>\n",
       "      <td>13</td>\n",
       "      <td>33787.5</td>\n",
       "      <td>56</td>\n",
       "      <td>15</td>\n",
       "    </tr>\n",
       "    <tr>\n",
       "      <th>19</th>\n",
       "      <td>ao_1.JPG</td>\n",
       "      <td>1561817162</td>\n",
       "      <td>930.0</td>\n",
       "      <td>12</td>\n",
       "      <td>13</td>\n",
       "      <td>33915.0</td>\n",
       "      <td>51</td>\n",
       "      <td>15</td>\n",
       "    </tr>\n",
       "    <tr>\n",
       "      <th>20</th>\n",
       "      <td>ap_0.JPG</td>\n",
       "      <td>1561818092</td>\n",
       "      <td>12.0</td>\n",
       "      <td>13</td>\n",
       "      <td>14</td>\n",
       "      <td>32895.0</td>\n",
       "      <td>39</td>\n",
       "      <td>16</td>\n",
       "    </tr>\n",
       "    <tr>\n",
       "      <th>21</th>\n",
       "      <td>aq_0.JPG</td>\n",
       "      <td>1561818104</td>\n",
       "      <td>NaN</td>\n",
       "      <td>14</td>\n",
       "      <td>15</td>\n",
       "      <td>34042.5</td>\n",
       "      <td>41</td>\n",
       "      <td>17</td>\n",
       "    </tr>\n",
       "  </tbody>\n",
       "</table>\n",
       "</div>"
      ],
      "text/plain": [
       "        File  Creation_Date  Timediff  Target  Timediff_pred  \\\n",
       "0   ac_0.JPG     1561815246      26.0       0              0   \n",
       "1   ad_0.JPG     1561815272      12.0       1              1   \n",
       "2   ae_0.JPG     1561815284       6.0       2              2   \n",
       "3   ae_1.JPG     1561815290      96.0       2              3   \n",
       "4   af_0.JPG     1561815386     134.0       3              4   \n",
       "5   ag_0.JPG     1561815520     128.0       4              5   \n",
       "6   ah_0.JPG     1561815648      12.0       5              6   \n",
       "7   ai_0.JPG     1561815660       8.0       6              7   \n",
       "8   ai_1.JPG     1561815668     166.0       6              8   \n",
       "9   aj_0.JPG     1561815834       2.0       7              9   \n",
       "10  aj_1.JPG     1561815836     272.0       7              9   \n",
       "11  ak_0.JPG     1561816108       2.0       8             10   \n",
       "12  ak_1.JPG     1561816110     876.0       8             10   \n",
       "13  al_0.JPG     1561816986      76.0       9             11   \n",
       "14  am_0.JPG     1561817062       0.0      10             12   \n",
       "15  am_1.JPG     1561817062      94.0      10             12   \n",
       "16  an_0.JPG     1561817156       2.0      11             13   \n",
       "17  an_1.JPG     1561817158       4.0      11             13   \n",
       "18  ao_0.JPG     1561817162       0.0      12             13   \n",
       "19  ao_1.JPG     1561817162     930.0      12             13   \n",
       "20  ap_0.JPG     1561818092      12.0      13             14   \n",
       "21  aq_0.JPG     1561818104       NaN      14             15   \n",
       "\n",
       "    Magnitude_spectrum  Hash_value  Hash_pred  \n",
       "0              33022.5          52          0  \n",
       "1              33277.5          40          1  \n",
       "2              32257.5          47          2  \n",
       "3              31875.0          35          3  \n",
       "4              33405.0          51          4  \n",
       "5              34170.0          45          5  \n",
       "6              33150.0          41          6  \n",
       "7              32512.5          50          7  \n",
       "8              31620.0          35          8  \n",
       "9              32767.5          42          9  \n",
       "10             31237.5          37         10  \n",
       "11             30600.0          58         11  \n",
       "12             30600.0          43         11  \n",
       "13             31110.0          39         12  \n",
       "14             33150.0          58         13  \n",
       "15             32895.0          40         13  \n",
       "16             32767.5          55         14  \n",
       "17             32640.0          39         14  \n",
       "18             33787.5          56         15  \n",
       "19             33915.0          51         15  \n",
       "20             32895.0          39         16  \n",
       "21             34042.5          41         17  "
      ]
     },
     "execution_count": 58,
     "metadata": {},
     "output_type": "execute_result"
    }
   ],
   "source": [
    "df"
   ]
  },
  {
   "cell_type": "markdown",
   "metadata": {},
   "source": [
    "# Evaluate results"
   ]
  },
  {
   "cell_type": "code",
   "execution_count": 69,
   "metadata": {},
   "outputs": [
    {
     "data": {
      "text/plain": [
       "(15, 18, 9.266666666666666)"
      ]
     },
     "execution_count": 69,
     "metadata": {},
     "output_type": "execute_result"
    }
   ],
   "source": [
    "loss_function(df['Hash_pred'], n_img=n_img)"
   ]
  },
  {
   "cell_type": "code",
   "execution_count": 70,
   "metadata": {},
   "outputs": [
    {
     "data": {
      "text/plain": [
       "(15, 16, 4.8)"
      ]
     },
     "execution_count": 70,
     "metadata": {},
     "output_type": "execute_result"
    }
   ],
   "source": [
    "loss_function(df['Timediff_pred'], n_img=n_img)"
   ]
  },
  {
   "cell_type": "markdown",
   "metadata": {},
   "source": [
    "# Process results"
   ]
  },
  {
   "cell_type": "code",
   "execution_count": 101,
   "metadata": {},
   "outputs": [],
   "source": [
    "def copy_imgs(df, pred=None):\n",
    "    \"\"\"\n",
    "    Function that copies the processed images to the destination repository.\n",
    "    \n",
    "    parameters:\n",
    "        df: (pandas DataFrame), that is grouped by column pred\n",
    "        pred: (str), target column in the DataFrame\n",
    "    \"\"\"\n",
    "    for _, v in df.iloc[df.groupby([pred])['Magnitude_spectrum'].idxmax().values].iterrows():\n",
    "        filename, ext = v['File'].split('.')\n",
    "        old, new = IMAGES + v['File'], IMAGES_PROCESSED + str(v[pred]) + '.' + ext\n",
    "        shutil.copy2(old, new)"
   ]
  },
  {
   "cell_type": "code",
   "execution_count": 102,
   "metadata": {},
   "outputs": [],
   "source": [
    "copy_imgs(df, 'Timediff_pred')"
   ]
  }
 ],
 "metadata": {
  "kernelspec": {
   "display_name": "Python 3",
   "language": "python",
   "name": "python3"
  },
  "language_info": {
   "codemirror_mode": {
    "name": "ipython",
    "version": 3
   },
   "file_extension": ".py",
   "mimetype": "text/x-python",
   "name": "python",
   "nbconvert_exporter": "python",
   "pygments_lexer": "ipython3",
   "version": "3.7.3"
  }
 },
 "nbformat": 4,
 "nbformat_minor": 4
}
